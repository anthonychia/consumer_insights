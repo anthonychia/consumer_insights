{
 "cells": [
  {
   "cell_type": "markdown",
   "metadata": {},
   "source": [
    "## Exploratory Data Analysis"
   ]
  },
  {
   "cell_type": "code",
   "execution_count": 3,
   "metadata": {},
   "outputs": [],
   "source": [
    "import pandas as pd\n",
    "import numpy as np\n",
    "import seaborn as sns\n",
    "import matplotlib.pyplot as plt"
   ]
  },
  {
   "cell_type": "code",
   "execution_count": 4,
   "metadata": {},
   "outputs": [],
   "source": [
    "from util import DataLoaders"
   ]
  },
  {
   "cell_type": "code",
   "execution_count": 5,
   "metadata": {},
   "outputs": [],
   "source": [
    "# Load data for exploratory analysis\n",
    "datafile = DataLoaders.FileDataLoader('../data/final_dataset.csv')\n",
    "df = datafile.load_data()"
   ]
  },
  {
   "cell_type": "code",
   "execution_count": 6,
   "metadata": {},
   "outputs": [
    {
     "data": {
      "text/html": [
       "<div>\n",
       "<style scoped>\n",
       "    .dataframe tbody tr th:only-of-type {\n",
       "        vertical-align: middle;\n",
       "    }\n",
       "\n",
       "    .dataframe tbody tr th {\n",
       "        vertical-align: top;\n",
       "    }\n",
       "\n",
       "    .dataframe thead th {\n",
       "        text-align: right;\n",
       "    }\n",
       "</style>\n",
       "<table border=\"1\" class=\"dataframe\">\n",
       "  <thead>\n",
       "    <tr style=\"text-align: right;\">\n",
       "      <th></th>\n",
       "      <th>user_id</th>\n",
       "      <th>age</th>\n",
       "      <th>workclass</th>\n",
       "      <th>salary</th>\n",
       "      <th>education_rank</th>\n",
       "      <th>marital-status</th>\n",
       "      <th>occupation</th>\n",
       "      <th>race</th>\n",
       "      <th>sex</th>\n",
       "      <th>mins_beerdrinking_year</th>\n",
       "      <th>mins_exercising_year</th>\n",
       "      <th>works_hours</th>\n",
       "      <th>tea_per_year</th>\n",
       "      <th>coffee_per_year</th>\n",
       "      <th>great_customer_class</th>\n",
       "    </tr>\n",
       "  </thead>\n",
       "  <tbody>\n",
       "    <tr>\n",
       "      <th>0</th>\n",
       "      <td>1004889</td>\n",
       "      <td>14.0</td>\n",
       "      <td>private</td>\n",
       "      <td>70773.00</td>\n",
       "      <td>9</td>\n",
       "      <td>Never-married</td>\n",
       "      <td>sales</td>\n",
       "      <td>not_caucasian</td>\n",
       "      <td>Male</td>\n",
       "      <td>0.0</td>\n",
       "      <td>0.0</td>\n",
       "      <td>40</td>\n",
       "      <td>399.0</td>\n",
       "      <td>NaN</td>\n",
       "      <td>0</td>\n",
       "    </tr>\n",
       "    <tr>\n",
       "      <th>1</th>\n",
       "      <td>1012811</td>\n",
       "      <td>25.0</td>\n",
       "      <td>private</td>\n",
       "      <td>76597.00</td>\n",
       "      <td>9</td>\n",
       "      <td>Divorced</td>\n",
       "      <td>sales</td>\n",
       "      <td>caucasian</td>\n",
       "      <td>Female</td>\n",
       "      <td>0.0</td>\n",
       "      <td>0.0</td>\n",
       "      <td>30</td>\n",
       "      <td>256.0</td>\n",
       "      <td>NaN</td>\n",
       "      <td>0</td>\n",
       "    </tr>\n",
       "    <tr>\n",
       "      <th>2</th>\n",
       "      <td>1006870</td>\n",
       "      <td>21.0</td>\n",
       "      <td>private</td>\n",
       "      <td>47947.25</td>\n",
       "      <td>10</td>\n",
       "      <td>Never-married</td>\n",
       "      <td>clerical</td>\n",
       "      <td>caucasian</td>\n",
       "      <td>Female</td>\n",
       "      <td>0.0</td>\n",
       "      <td>0.0</td>\n",
       "      <td>10</td>\n",
       "      <td>442.0</td>\n",
       "      <td>276.0</td>\n",
       "      <td>0</td>\n",
       "    </tr>\n",
       "    <tr>\n",
       "      <th>3</th>\n",
       "      <td>1022149</td>\n",
       "      <td>23.0</td>\n",
       "      <td>private</td>\n",
       "      <td>41740.25</td>\n",
       "      <td>7</td>\n",
       "      <td>Divorced</td>\n",
       "      <td>sales</td>\n",
       "      <td>caucasian</td>\n",
       "      <td>Female</td>\n",
       "      <td>0.0</td>\n",
       "      <td>0.0</td>\n",
       "      <td>20</td>\n",
       "      <td>NaN</td>\n",
       "      <td>NaN</td>\n",
       "      <td>0</td>\n",
       "    </tr>\n",
       "    <tr>\n",
       "      <th>4</th>\n",
       "      <td>1029558</td>\n",
       "      <td>26.0</td>\n",
       "      <td>private</td>\n",
       "      <td>NaN</td>\n",
       "      <td>9</td>\n",
       "      <td>Married</td>\n",
       "      <td>sales</td>\n",
       "      <td>not_caucasian</td>\n",
       "      <td>Male</td>\n",
       "      <td>NaN</td>\n",
       "      <td>0.0</td>\n",
       "      <td>36</td>\n",
       "      <td>NaN</td>\n",
       "      <td>120.0</td>\n",
       "      <td>0</td>\n",
       "    </tr>\n",
       "  </tbody>\n",
       "</table>\n",
       "</div>"
      ],
      "text/plain": [
       "   user_id   age workclass    salary  education_rank marital-status  \\\n",
       "0  1004889  14.0   private  70773.00               9  Never-married   \n",
       "1  1012811  25.0   private  76597.00               9       Divorced   \n",
       "2  1006870  21.0   private  47947.25              10  Never-married   \n",
       "3  1022149  23.0   private  41740.25               7       Divorced   \n",
       "4  1029558  26.0   private       NaN               9        Married   \n",
       "\n",
       "  occupation           race     sex  mins_beerdrinking_year  \\\n",
       "0      sales  not_caucasian    Male                     0.0   \n",
       "1      sales      caucasian  Female                     0.0   \n",
       "2   clerical      caucasian  Female                     0.0   \n",
       "3      sales      caucasian  Female                     0.0   \n",
       "4      sales  not_caucasian    Male                     NaN   \n",
       "\n",
       "   mins_exercising_year  works_hours  tea_per_year  coffee_per_year  \\\n",
       "0                   0.0           40         399.0              NaN   \n",
       "1                   0.0           30         256.0              NaN   \n",
       "2                   0.0           10         442.0            276.0   \n",
       "3                   0.0           20           NaN              NaN   \n",
       "4                   0.0           36           NaN            120.0   \n",
       "\n",
       "   great_customer_class  \n",
       "0                     0  \n",
       "1                     0  \n",
       "2                     0  \n",
       "3                     0  \n",
       "4                     0  "
      ]
     },
     "execution_count": 6,
     "metadata": {},
     "output_type": "execute_result"
    }
   ],
   "source": [
    "df.head()"
   ]
  },
  {
   "cell_type": "code",
   "execution_count": 30,
   "metadata": {},
   "outputs": [
    {
     "data": {
      "text/plain": [
       "(13599, 15)"
      ]
     },
     "execution_count": 30,
     "metadata": {},
     "output_type": "execute_result"
    }
   ],
   "source": [
    "df.shape"
   ]
  },
  {
   "cell_type": "code",
   "execution_count": 7,
   "metadata": {},
   "outputs": [
    {
     "data": {
      "text/html": [
       "<div>\n",
       "<style scoped>\n",
       "    .dataframe tbody tr th:only-of-type {\n",
       "        vertical-align: middle;\n",
       "    }\n",
       "\n",
       "    .dataframe tbody tr th {\n",
       "        vertical-align: top;\n",
       "    }\n",
       "\n",
       "    .dataframe thead th {\n",
       "        text-align: right;\n",
       "    }\n",
       "</style>\n",
       "<table border=\"1\" class=\"dataframe\">\n",
       "  <thead>\n",
       "    <tr style=\"text-align: right;\">\n",
       "      <th></th>\n",
       "      <th>user_id</th>\n",
       "      <th>age</th>\n",
       "      <th>salary</th>\n",
       "      <th>education_rank</th>\n",
       "      <th>mins_beerdrinking_year</th>\n",
       "      <th>mins_exercising_year</th>\n",
       "      <th>works_hours</th>\n",
       "      <th>tea_per_year</th>\n",
       "      <th>coffee_per_year</th>\n",
       "      <th>great_customer_class</th>\n",
       "    </tr>\n",
       "  </thead>\n",
       "  <tbody>\n",
       "    <tr>\n",
       "      <th>count</th>\n",
       "      <td>1.359900e+04</td>\n",
       "      <td>13178.000000</td>\n",
       "      <td>13177.000000</td>\n",
       "      <td>13599.000000</td>\n",
       "      <td>13175.000000</td>\n",
       "      <td>13178.000000</td>\n",
       "      <td>13599.000000</td>\n",
       "      <td>11170.000000</td>\n",
       "      <td>11188.000000</td>\n",
       "      <td>13599.000000</td>\n",
       "    </tr>\n",
       "    <tr>\n",
       "      <th>mean</th>\n",
       "      <td>1.033131e+06</td>\n",
       "      <td>44.842009</td>\n",
       "      <td>37149.297355</td>\n",
       "      <td>10.675417</td>\n",
       "      <td>447.920607</td>\n",
       "      <td>46.034224</td>\n",
       "      <td>39.916317</td>\n",
       "      <td>217.276544</td>\n",
       "      <td>359.708169</td>\n",
       "      <td>0.085889</td>\n",
       "    </tr>\n",
       "    <tr>\n",
       "      <th>std</th>\n",
       "      <td>1.603004e+04</td>\n",
       "      <td>16.050574</td>\n",
       "      <td>24316.155119</td>\n",
       "      <td>2.224582</td>\n",
       "      <td>4782.134102</td>\n",
       "      <td>294.234126</td>\n",
       "      <td>9.839082</td>\n",
       "      <td>113.944411</td>\n",
       "      <td>164.680579</td>\n",
       "      <td>0.280210</td>\n",
       "    </tr>\n",
       "    <tr>\n",
       "      <th>min</th>\n",
       "      <td>1.000006e+06</td>\n",
       "      <td>14.000000</td>\n",
       "      <td>4872.750000</td>\n",
       "      <td>1.000000</td>\n",
       "      <td>0.000000</td>\n",
       "      <td>0.000000</td>\n",
       "      <td>1.000000</td>\n",
       "      <td>1.000000</td>\n",
       "      <td>1.000000</td>\n",
       "      <td>0.000000</td>\n",
       "    </tr>\n",
       "    <tr>\n",
       "      <th>25%</th>\n",
       "      <td>1.019192e+06</td>\n",
       "      <td>30.000000</td>\n",
       "      <td>20885.500000</td>\n",
       "      <td>9.000000</td>\n",
       "      <td>0.000000</td>\n",
       "      <td>0.000000</td>\n",
       "      <td>40.000000</td>\n",
       "      <td>175.000000</td>\n",
       "      <td>223.750000</td>\n",
       "      <td>0.000000</td>\n",
       "    </tr>\n",
       "    <tr>\n",
       "      <th>50%</th>\n",
       "      <td>1.038625e+06</td>\n",
       "      <td>50.000000</td>\n",
       "      <td>25912.750000</td>\n",
       "      <td>12.000000</td>\n",
       "      <td>0.000000</td>\n",
       "      <td>0.000000</td>\n",
       "      <td>40.000000</td>\n",
       "      <td>175.000000</td>\n",
       "      <td>447.000000</td>\n",
       "      <td>0.000000</td>\n",
       "    </tr>\n",
       "    <tr>\n",
       "      <th>75%</th>\n",
       "      <td>1.048161e+06</td>\n",
       "      <td>59.000000</td>\n",
       "      <td>48908.750000</td>\n",
       "      <td>12.000000</td>\n",
       "      <td>0.000000</td>\n",
       "      <td>0.000000</td>\n",
       "      <td>40.000000</td>\n",
       "      <td>276.000000</td>\n",
       "      <td>499.000000</td>\n",
       "      <td>0.000000</td>\n",
       "    </tr>\n",
       "    <tr>\n",
       "      <th>max</th>\n",
       "      <td>1.048839e+06</td>\n",
       "      <td>90.000000</td>\n",
       "      <td>363858.750000</td>\n",
       "      <td>16.000000</td>\n",
       "      <td>99999.000000</td>\n",
       "      <td>3900.000000</td>\n",
       "      <td>99.000000</td>\n",
       "      <td>499.000000</td>\n",
       "      <td>499.000000</td>\n",
       "      <td>1.000000</td>\n",
       "    </tr>\n",
       "  </tbody>\n",
       "</table>\n",
       "</div>"
      ],
      "text/plain": [
       "            user_id           age         salary  education_rank  \\\n",
       "count  1.359900e+04  13178.000000   13177.000000    13599.000000   \n",
       "mean   1.033131e+06     44.842009   37149.297355       10.675417   \n",
       "std    1.603004e+04     16.050574   24316.155119        2.224582   \n",
       "min    1.000006e+06     14.000000    4872.750000        1.000000   \n",
       "25%    1.019192e+06     30.000000   20885.500000        9.000000   \n",
       "50%    1.038625e+06     50.000000   25912.750000       12.000000   \n",
       "75%    1.048161e+06     59.000000   48908.750000       12.000000   \n",
       "max    1.048839e+06     90.000000  363858.750000       16.000000   \n",
       "\n",
       "       mins_beerdrinking_year  mins_exercising_year   works_hours  \\\n",
       "count            13175.000000          13178.000000  13599.000000   \n",
       "mean               447.920607             46.034224     39.916317   \n",
       "std               4782.134102            294.234126      9.839082   \n",
       "min                  0.000000              0.000000      1.000000   \n",
       "25%                  0.000000              0.000000     40.000000   \n",
       "50%                  0.000000              0.000000     40.000000   \n",
       "75%                  0.000000              0.000000     40.000000   \n",
       "max              99999.000000           3900.000000     99.000000   \n",
       "\n",
       "       tea_per_year  coffee_per_year  great_customer_class  \n",
       "count  11170.000000     11188.000000          13599.000000  \n",
       "mean     217.276544       359.708169              0.085889  \n",
       "std      113.944411       164.680579              0.280210  \n",
       "min        1.000000         1.000000              0.000000  \n",
       "25%      175.000000       223.750000              0.000000  \n",
       "50%      175.000000       447.000000              0.000000  \n",
       "75%      276.000000       499.000000              0.000000  \n",
       "max      499.000000       499.000000              1.000000  "
      ]
     },
     "execution_count": 7,
     "metadata": {},
     "output_type": "execute_result"
    }
   ],
   "source": [
    "df.describe()"
   ]
  },
  {
   "cell_type": "code",
   "execution_count": 8,
   "metadata": {},
   "outputs": [
    {
     "data": {
      "text/plain": [
       "user_id                      0\n",
       "age                        421\n",
       "workclass                  543\n",
       "salary                     422\n",
       "education_rank               0\n",
       "marital-status               0\n",
       "occupation                 543\n",
       "race                         0\n",
       "sex                          0\n",
       "mins_beerdrinking_year     424\n",
       "mins_exercising_year       421\n",
       "works_hours                  0\n",
       "tea_per_year              2429\n",
       "coffee_per_year           2411\n",
       "great_customer_class         0\n",
       "dtype: int64"
      ]
     },
     "execution_count": 8,
     "metadata": {},
     "output_type": "execute_result"
    }
   ],
   "source": [
    "# Check for missing values in the dataset\n",
    "df.isnull().sum()"
   ]
  },
  {
   "cell_type": "markdown",
   "metadata": {},
   "source": [
    "There are many missing values in the dataset. More specifically, *tea_per_year* and *coffee_per_year* have the most missing values."
   ]
  },
  {
   "cell_type": "code",
   "execution_count": 29,
   "metadata": {},
   "outputs": [
    {
     "data": {
      "text/plain": [
       "5163"
      ]
     },
     "execution_count": 29,
     "metadata": {},
     "output_type": "execute_result"
    }
   ],
   "source": [
    "# Count how many rows with missing values\n",
    "df.apply(lambda x: any(x.isna()), axis=1).sum()"
   ]
  },
  {
   "cell_type": "markdown",
   "metadata": {},
   "source": [
    "In total, there are 5163 rows with missing values (out of ~13000 rows). That's a lot. Need to find a way to fill in the missing values."
   ]
  },
  {
   "cell_type": "code",
   "execution_count": 9,
   "metadata": {},
   "outputs": [
    {
     "data": {
      "text/html": [
       "<div>\n",
       "<style scoped>\n",
       "    .dataframe tbody tr th:only-of-type {\n",
       "        vertical-align: middle;\n",
       "    }\n",
       "\n",
       "    .dataframe tbody tr th {\n",
       "        vertical-align: top;\n",
       "    }\n",
       "\n",
       "    .dataframe thead th {\n",
       "        text-align: right;\n",
       "    }\n",
       "</style>\n",
       "<table border=\"1\" class=\"dataframe\">\n",
       "  <thead>\n",
       "    <tr style=\"text-align: right;\">\n",
       "      <th></th>\n",
       "      <th>user_id</th>\n",
       "      <th>age</th>\n",
       "      <th>salary</th>\n",
       "      <th>education_rank</th>\n",
       "      <th>mins_beerdrinking_year</th>\n",
       "      <th>mins_exercising_year</th>\n",
       "      <th>works_hours</th>\n",
       "      <th>tea_per_year</th>\n",
       "      <th>coffee_per_year</th>\n",
       "      <th>great_customer_class</th>\n",
       "    </tr>\n",
       "  </thead>\n",
       "  <tbody>\n",
       "    <tr>\n",
       "      <th>user_id</th>\n",
       "      <td>1.000000</td>\n",
       "      <td>0.501823</td>\n",
       "      <td>-0.377728</td>\n",
       "      <td>0.327658</td>\n",
       "      <td>-0.058743</td>\n",
       "      <td>-0.081948</td>\n",
       "      <td>0.008638</td>\n",
       "      <td>-0.266291</td>\n",
       "      <td>0.567604</td>\n",
       "      <td>-0.163365</td>\n",
       "    </tr>\n",
       "    <tr>\n",
       "      <th>age</th>\n",
       "      <td>0.501823</td>\n",
       "      <td>1.000000</td>\n",
       "      <td>-0.418150</td>\n",
       "      <td>0.338892</td>\n",
       "      <td>0.018385</td>\n",
       "      <td>-0.037647</td>\n",
       "      <td>0.041650</td>\n",
       "      <td>-0.249540</td>\n",
       "      <td>0.555050</td>\n",
       "      <td>0.055400</td>\n",
       "    </tr>\n",
       "    <tr>\n",
       "      <th>salary</th>\n",
       "      <td>-0.377728</td>\n",
       "      <td>-0.418150</td>\n",
       "      <td>1.000000</td>\n",
       "      <td>-0.265910</td>\n",
       "      <td>0.041813</td>\n",
       "      <td>0.053870</td>\n",
       "      <td>-0.010487</td>\n",
       "      <td>0.195358</td>\n",
       "      <td>-0.429323</td>\n",
       "      <td>0.133205</td>\n",
       "    </tr>\n",
       "    <tr>\n",
       "      <th>education_rank</th>\n",
       "      <td>0.327658</td>\n",
       "      <td>0.338892</td>\n",
       "      <td>-0.265910</td>\n",
       "      <td>1.000000</td>\n",
       "      <td>0.069731</td>\n",
       "      <td>-0.000616</td>\n",
       "      <td>0.116610</td>\n",
       "      <td>-0.160003</td>\n",
       "      <td>0.382846</td>\n",
       "      <td>0.128017</td>\n",
       "    </tr>\n",
       "    <tr>\n",
       "      <th>mins_beerdrinking_year</th>\n",
       "      <td>-0.058743</td>\n",
       "      <td>0.018385</td>\n",
       "      <td>0.041813</td>\n",
       "      <td>0.069731</td>\n",
       "      <td>1.000000</td>\n",
       "      <td>-0.014369</td>\n",
       "      <td>0.061008</td>\n",
       "      <td>0.027532</td>\n",
       "      <td>-0.060082</td>\n",
       "      <td>0.253218</td>\n",
       "    </tr>\n",
       "    <tr>\n",
       "      <th>mins_exercising_year</th>\n",
       "      <td>-0.081948</td>\n",
       "      <td>-0.037647</td>\n",
       "      <td>0.053870</td>\n",
       "      <td>-0.000616</td>\n",
       "      <td>-0.014369</td>\n",
       "      <td>1.000000</td>\n",
       "      <td>0.051714</td>\n",
       "      <td>0.022723</td>\n",
       "      <td>-0.088012</td>\n",
       "      <td>0.170544</td>\n",
       "    </tr>\n",
       "    <tr>\n",
       "      <th>works_hours</th>\n",
       "      <td>0.008638</td>\n",
       "      <td>0.041650</td>\n",
       "      <td>-0.010487</td>\n",
       "      <td>0.116610</td>\n",
       "      <td>0.061008</td>\n",
       "      <td>0.051714</td>\n",
       "      <td>1.000000</td>\n",
       "      <td>-0.003988</td>\n",
       "      <td>-0.000358</td>\n",
       "      <td>0.168146</td>\n",
       "    </tr>\n",
       "    <tr>\n",
       "      <th>tea_per_year</th>\n",
       "      <td>-0.266291</td>\n",
       "      <td>-0.249540</td>\n",
       "      <td>0.195358</td>\n",
       "      <td>-0.160003</td>\n",
       "      <td>0.027532</td>\n",
       "      <td>0.022723</td>\n",
       "      <td>-0.003988</td>\n",
       "      <td>1.000000</td>\n",
       "      <td>-0.278121</td>\n",
       "      <td>0.092783</td>\n",
       "    </tr>\n",
       "    <tr>\n",
       "      <th>coffee_per_year</th>\n",
       "      <td>0.567604</td>\n",
       "      <td>0.555050</td>\n",
       "      <td>-0.429323</td>\n",
       "      <td>0.382846</td>\n",
       "      <td>-0.060082</td>\n",
       "      <td>-0.088012</td>\n",
       "      <td>-0.000358</td>\n",
       "      <td>-0.278121</td>\n",
       "      <td>1.000000</td>\n",
       "      <td>-0.187042</td>\n",
       "    </tr>\n",
       "    <tr>\n",
       "      <th>great_customer_class</th>\n",
       "      <td>-0.163365</td>\n",
       "      <td>0.055400</td>\n",
       "      <td>0.133205</td>\n",
       "      <td>0.128017</td>\n",
       "      <td>0.253218</td>\n",
       "      <td>0.170544</td>\n",
       "      <td>0.168146</td>\n",
       "      <td>0.092783</td>\n",
       "      <td>-0.187042</td>\n",
       "      <td>1.000000</td>\n",
       "    </tr>\n",
       "  </tbody>\n",
       "</table>\n",
       "</div>"
      ],
      "text/plain": [
       "                         user_id       age    salary  education_rank  \\\n",
       "user_id                 1.000000  0.501823 -0.377728        0.327658   \n",
       "age                     0.501823  1.000000 -0.418150        0.338892   \n",
       "salary                 -0.377728 -0.418150  1.000000       -0.265910   \n",
       "education_rank          0.327658  0.338892 -0.265910        1.000000   \n",
       "mins_beerdrinking_year -0.058743  0.018385  0.041813        0.069731   \n",
       "mins_exercising_year   -0.081948 -0.037647  0.053870       -0.000616   \n",
       "works_hours             0.008638  0.041650 -0.010487        0.116610   \n",
       "tea_per_year           -0.266291 -0.249540  0.195358       -0.160003   \n",
       "coffee_per_year         0.567604  0.555050 -0.429323        0.382846   \n",
       "great_customer_class   -0.163365  0.055400  0.133205        0.128017   \n",
       "\n",
       "                        mins_beerdrinking_year  mins_exercising_year  \\\n",
       "user_id                              -0.058743             -0.081948   \n",
       "age                                   0.018385             -0.037647   \n",
       "salary                                0.041813              0.053870   \n",
       "education_rank                        0.069731             -0.000616   \n",
       "mins_beerdrinking_year                1.000000             -0.014369   \n",
       "mins_exercising_year                 -0.014369              1.000000   \n",
       "works_hours                           0.061008              0.051714   \n",
       "tea_per_year                          0.027532              0.022723   \n",
       "coffee_per_year                      -0.060082             -0.088012   \n",
       "great_customer_class                  0.253218              0.170544   \n",
       "\n",
       "                        works_hours  tea_per_year  coffee_per_year  \\\n",
       "user_id                    0.008638     -0.266291         0.567604   \n",
       "age                        0.041650     -0.249540         0.555050   \n",
       "salary                    -0.010487      0.195358        -0.429323   \n",
       "education_rank             0.116610     -0.160003         0.382846   \n",
       "mins_beerdrinking_year     0.061008      0.027532        -0.060082   \n",
       "mins_exercising_year       0.051714      0.022723        -0.088012   \n",
       "works_hours                1.000000     -0.003988        -0.000358   \n",
       "tea_per_year              -0.003988      1.000000        -0.278121   \n",
       "coffee_per_year           -0.000358     -0.278121         1.000000   \n",
       "great_customer_class       0.168146      0.092783        -0.187042   \n",
       "\n",
       "                        great_customer_class  \n",
       "user_id                            -0.163365  \n",
       "age                                 0.055400  \n",
       "salary                              0.133205  \n",
       "education_rank                      0.128017  \n",
       "mins_beerdrinking_year              0.253218  \n",
       "mins_exercising_year                0.170544  \n",
       "works_hours                         0.168146  \n",
       "tea_per_year                        0.092783  \n",
       "coffee_per_year                    -0.187042  \n",
       "great_customer_class                1.000000  "
      ]
     },
     "execution_count": 9,
     "metadata": {},
     "output_type": "execute_result"
    }
   ],
   "source": [
    "df.corr()"
   ]
  },
  {
   "cell_type": "markdown",
   "metadata": {},
   "source": [
    "Some interesting observations from the correlations. *Salary* has some reasonable correlations with *age*, *education_rank* and *coffee_per_year*. Higher earners drink less coffees! Perhaps, we can impute some missing values using regression analysis?"
   ]
  },
  {
   "cell_type": "code",
   "execution_count": 10,
   "metadata": {},
   "outputs": [
    {
     "data": {
      "text/plain": [
       "<matplotlib.axes._subplots.AxesSubplot at 0x197b20c4cf8>"
      ]
     },
     "execution_count": 10,
     "metadata": {},
     "output_type": "execute_result"
    },
    {
     "data": {
      "image/png": "[encoded data removed]",
      "text/plain": [
       "<Figure size 432x288 with 1 Axes>"
      ]
     },
     "metadata": {
      "needs_background": "light"
     },
     "output_type": "display_data"
    }
   ],
   "source": [
    "df['great_customer_class'].value_counts().plot(kind='bar')"
   ]
  },
  {
   "cell_type": "markdown",
   "metadata": {},
   "source": [
    "It is a very imbalanced dataset. Most customers are not great. :( "
   ]
  },
  {
   "cell_type": "code",
   "execution_count": 11,
   "metadata": {},
   "outputs": [
    {
     "data": {
      "text/plain": [
       "<matplotlib.axes._subplots.AxesSubplot at 0x197b20c40b8>"
      ]
     },
     "execution_count": 11,
     "metadata": {},
     "output_type": "execute_result"
    },
    {
     "data": {
      "image/png": "[encoded data removed]",
      "text/plain": [
       "<Figure size 360x720 with 1 Axes>"
      ]
     },
     "metadata": {
      "needs_background": "light"
     },
     "output_type": "display_data"
    }
   ],
   "source": [
    "plt.figure(figsize = (5,10))\n",
    "sns.boxplot(data=df, x='great_customer_class', y='salary')"
   ]
  },
  {
   "cell_type": "code",
   "execution_count": 12,
   "metadata": {},
   "outputs": [
    {
     "data": {
      "text/plain": [
       "<matplotlib.axes._subplots.AxesSubplot at 0x197b2469908>"
      ]
     },
     "execution_count": 12,
     "metadata": {},
     "output_type": "execute_result"
    },
    {
     "data": {
      "image/png": "[encoded data removed]",
      "text/plain": [
       "<Figure size 432x288 with 1 Axes>"
      ]
     },
     "metadata": {
      "needs_background": "light"
     },
     "output_type": "display_data"
    }
   ],
   "source": [
    "df['age'].hist(bins=20)"
   ]
  },
  {
   "cell_type": "code",
   "execution_count": 13,
   "metadata": {},
   "outputs": [
    {
     "data": {
      "image/png": "[encoded data removed]",
      "text/plain": [
       "<Figure size 432x288 with 1 Axes>"
      ]
     },
     "metadata": {
      "needs_background": "light"
     },
     "output_type": "display_data"
    },
    {
     "data": {
      "image/png": "[encoded data removed]",
      "text/plain": [
       "<Figure size 432x288 with 1 Axes>"
      ]
     },
     "metadata": {
      "needs_background": "light"
     },
     "output_type": "display_data"
    },
    {
     "data": {
      "image/png": "[encoded data removed]",
      "text/plain": [
       "<Figure size 432x288 with 1 Axes>"
      ]
     },
     "metadata": {
      "needs_background": "light"
     },
     "output_type": "display_data"
    },
    {
     "data": {
      "image/png": "[encoded data removed]",
      "text/plain": [
       "<Figure size 432x288 with 1 Axes>"
      ]
     },
     "metadata": {
      "needs_background": "light"
     },
     "output_type": "display_data"
    },
    {
     "data": {
      "image/png": "[encoded data removed]",
      "text/plain": [
       "<Figure size 432x288 with 1 Axes>"
      ]
     },
     "metadata": {
      "needs_background": "light"
     },
     "output_type": "display_data"
    }
   ],
   "source": [
    "for category in ['workclass', 'occupation', 'sex', 'marital-status', 'race']:\n",
    "    df[category].value_counts().plot(kind='bar')\n",
    "    plt.show()"
   ]
  },
  {
   "cell_type": "markdown",
   "metadata": {},
   "source": [
    "A few interesting observations. Age distribution in the survey data is quite skewed with a peak close to age 60. Any analysis might be skewed towards this. It would be nice to have a good distribution of age groups doing the survey. \n",
    "\n",
    "More males than females have done the survey."
   ]
  },
  {
   "cell_type": "code",
   "execution_count": 14,
   "metadata": {},
   "outputs": [
    {
     "data": {
      "text/plain": [
       "0"
      ]
     },
     "execution_count": 14,
     "metadata": {},
     "output_type": "execute_result"
    }
   ],
   "source": [
    "df[df['occupation'].isnull()]['workclass'].sum()"
   ]
  },
  {
   "cell_type": "markdown",
   "metadata": {},
   "source": [
    "*workclass* and *occupation* are often missing together"
   ]
  },
  {
   "cell_type": "code",
   "execution_count": 15,
   "metadata": {},
   "outputs": [
    {
     "data": {
      "text/plain": [
       "self_employed    5972\n",
       "private          5957\n",
       "government       1127\n",
       "Name: workclass, dtype: int64"
      ]
     },
     "execution_count": 15,
     "metadata": {},
     "output_type": "execute_result"
    }
   ],
   "source": [
    "df['workclass'].value_counts()"
   ]
  },
  {
   "cell_type": "markdown",
   "metadata": {},
   "source": [
    "## Summary\n",
    "\n",
    "There are a few interesting insights that can guide us in our further analysis:\n",
    "1. A lot of missing values in the dataset. \n",
    "2. It is an imbalanced dataset. There is a lot of negatives but not a lot of positives.\n",
    "3. There are some correlations between variables - could be useful for imputation but the multicollinearity might affect some models/algorithms."
   ]
  },
  {
   "cell_type": "code",
   "execution_count": null,
   "metadata": {},
   "outputs": [],
   "source": []
  }
 ],
 "metadata": {
  "kernelspec": {
   "display_name": "Python 3",
   "language": "python",
   "name": "python3"
  },
  "language_info": {
   "codemirror_mode": {
    "name": "ipython",
    "version": 3
   },
   "file_extension": ".py",
   "mimetype": "text/x-python",
   "name": "python",
   "nbconvert_exporter": "python",
   "pygments_lexer": "ipython3",
   "version": "3.7.3"
  }
 },
 "nbformat": 4,
 "nbformat_minor": 1
}
